{
 "cells": [
  {
   "cell_type": "code",
   "execution_count": 1,
   "metadata": {},
   "outputs": [
    {
     "ename": "ModuleNotFoundError",
     "evalue": "No module named 'requests'",
     "output_type": "error",
     "traceback": [
      "\u001b[0;31m---------------------------------------------------------------------------\u001b[0m",
      "\u001b[0;31mModuleNotFoundError\u001b[0m                       Traceback (most recent call last)",
      "Cell \u001b[0;32mIn[1], line 1\u001b[0m\n\u001b[0;32m----> 1\u001b[0m \u001b[39mimport\u001b[39;00m \u001b[39mrequests\u001b[39;00m\n\u001b[1;32m      2\u001b[0m \u001b[39mimport\u001b[39;00m \u001b[39mpandas\u001b[39;00m \u001b[39mas\u001b[39;00m \u001b[39mpd\u001b[39;00m\n\u001b[1;32m      3\u001b[0m \u001b[39mimport\u001b[39;00m \u001b[39mfolium\u001b[39;00m\n",
      "\u001b[0;31mModuleNotFoundError\u001b[0m: No module named 'requests'"
     ]
    }
   ],
   "source": [
    "import requests\n",
    "import pandas as pd\n",
    "import folium\n",
    "from folium.plugins import HeatMap\n",
    "from folium import Choropleth\n",
    "\n",
    "# Define the endpoint URL for the OSM API\n",
    "endpoint = 'https://nominatim.openstreetmap.org/search'\n",
    "\n",
    "# Define the parameters for the API request\n",
    "params = {\n",
    "    'q': 'schools in Nampula',\n",
    "    'format': 'json',\n",
    "    'limit': 30,\n",
    "    'radius': 25000,\n",
    "}\n",
    "\n",
    "# Send the API request and get the response\n",
    "response = requests.get(endpoint, params=params)\n",
    "\n",
    "# Check if the request was successful (200 status code)\n",
    "if response.status_code == 200:\n",
    "    # Convert the response data to JSON format\n",
    "    data = response.json()\n",
    "\n",
    "    # Extract the relevant fields from the JSON data\n",
    "    records = [(d['display_name'], d['lat'], d['lon']) for d in data]\n",
    "\n",
    "    # Create a DataFrame from the records\n",
    "    df = pd.DataFrame.from_records(records, columns=['Name', 'Latitude', 'Longitude'])\n",
    "\n",
    "    # Split the 'Name' column into 'Name' and 'Address' columns based on the first comma\n",
    "    df[['Name', 'Address']] = df['Name'].str.split(',', n=1, expand=True)\n",
    "\n",
    "    # Remove any leading or trailing whitespace from the 'Name' and 'Address' columns\n",
    "    df['Name'] = df['Name'].str.strip()\n",
    "    df['Address'] = df['Address'].str.strip()\n",
    "\n",
    "    display(df)\n",
    "\n",
    "    # Create a map centered on Pretoria\n",
    "    m = folium.Map(location=[-15.1207661, 39.2684548512737], zoom_start=11)\n",
    "\n",
    "    # Add a choropleth layer to the map based on the number of schools in each suburb\n",
    "    choropleth = Choropleth(\n",
    "        geo_data='https://raw.githubusercontent.com/johan/world.geo.json/master/countries/ZAF.geo.json',\n",
    "        name='choropleth',\n",
    "        data=df.groupby('Address').size().reset_index(name='count'),\n",
    "        columns=['Address', 'count'],\n",
    "        key_on='feature.properties.name',\n",
    "        fill_color='YlGn',\n",
    "        fill_opacity=0.7,\n",
    "        line_opacity=0.2,\n",
    "        legend_name='Number of Schools'\n",
    "    ).add_to(m)\n",
    "\n",
    "    # Add markers for each school to the map\n",
    "    for _, row in df.iterrows():\n",
    "        folium.Marker(\n",
    "            location=[row['Latitude'], row['Longitude']],\n",
    "            popup=row['Name']\n",
    "        ).add_to(m)\n",
    "\n",
    "    # Add the layer control\n",
    "    folium.LayerControl().add_to(m)\n",
    "\n",
    "    # Display the map\n",
    "    display(m)"
   ]
  }
 ],
 "metadata": {
  "kernelspec": {
   "display_name": "Python 3",
   "language": "python",
   "name": "python3"
  },
  "language_info": {
   "codemirror_mode": {
    "name": "ipython",
    "version": 3
   },
   "file_extension": ".py",
   "mimetype": "text/x-python",
   "name": "python",
   "nbconvert_exporter": "python",
   "pygments_lexer": "ipython3",
   "version": "3.9.0"
  },
  "orig_nbformat": 4
 },
 "nbformat": 4,
 "nbformat_minor": 2
}
